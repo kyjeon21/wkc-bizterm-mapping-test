{
 "cells": [
  {
   "cell_type": "code",
   "execution_count": null,
   "metadata": {},
   "outputs": [],
   "source": [
    "# file download\n",
    "from ibm_watson_studio_lib import access_project_or_space\n",
    "wslib = access_project_or_space()\n",
    "wslib.download_file('wkcapi_v1.py')\n",
    "wslib.download_file('map-bizterm-glossary.csv')"
   ]
  },
  {
   "cell_type": "code",
   "execution_count": 1,
   "metadata": {
    "id": "70882a10ec594d00872b55d424ee9340",
    "tags": []
   },
   "outputs": [
    {
     "name": "stdout",
     "output_type": "stream",
     "text": [
      "1) Please enter your ID: admin\n",
      "2) Password:  ········\n"
     ]
    }
   ],
   "source": [
    "from wkcapi_v1 import MapTermsInput\n",
    "\n",
    "#  cpd_cluster_host: cpd url\n",
    "#  get username and password from keyboard input, not from json file\n",
    "\n",
    "wkc = MapTermsInput(\n",
    "    cpd_cluster_host = 'https://cpd-cpd-instance-1.itzroks-661002et7b-l3aou9-4b4a324f027aea19c5cbc0c3275c4656-0000.us-south.containers.appdomain.cloud',\n",
    ")"
   ]
  },
  {
   "cell_type": "code",
   "execution_count": 2,
   "metadata": {
    "id": "43bcbe45-fd91-4bc4-81d9-9619d0cac809",
    "tags": []
   },
   "outputs": [
    {
     "data": {
      "text/html": [
       "<div>\n",
       "<style scoped>\n",
       "    .dataframe tbody tr th:only-of-type {\n",
       "        vertical-align: middle;\n",
       "    }\n",
       "\n",
       "    .dataframe tbody tr th {\n",
       "        vertical-align: top;\n",
       "    }\n",
       "\n",
       "    .dataframe thead th {\n",
       "        text-align: right;\n",
       "    }\n",
       "</style>\n",
       "<table border=\"1\" class=\"dataframe\">\n",
       "  <thead>\n",
       "    <tr style=\"text-align: right;\">\n",
       "      <th></th>\n",
       "      <th>Catalog</th>\n",
       "      <th>DataAsset</th>\n",
       "      <th>ColumnHeader</th>\n",
       "      <th>BusinessTerm</th>\n",
       "      <th>Category</th>\n",
       "    </tr>\n",
       "  </thead>\n",
       "  <tbody>\n",
       "    <tr>\n",
       "      <th>0</th>\n",
       "      <td>Test Catalog</td>\n",
       "      <td>CDB_A_DESC</td>\n",
       "      <td>join_sn</td>\n",
       "      <td>차주일련번호</td>\n",
       "      <td>CreDB &gt;&gt; SubCategoryA</td>\n",
       "    </tr>\n",
       "    <tr>\n",
       "      <th>1</th>\n",
       "      <td>Test Catalog</td>\n",
       "      <td>CDB_A_DESC</td>\n",
       "      <td>join_sn_typ</td>\n",
       "      <td>차주구분코드</td>\n",
       "      <td>CreDB &gt;&gt; SubCategoryA</td>\n",
       "    </tr>\n",
       "    <tr>\n",
       "      <th>2</th>\n",
       "      <td>Test Catalog</td>\n",
       "      <td>CDB_A_DESC</td>\n",
       "      <td>biz_sn</td>\n",
       "      <td>사업자일련번호</td>\n",
       "      <td>CreDB &gt;&gt; SubCategoryA</td>\n",
       "    </tr>\n",
       "    <tr>\n",
       "      <th>3</th>\n",
       "      <td>Test Catalog</td>\n",
       "      <td>CDB_A_DESC</td>\n",
       "      <td>biz_typ_cd</td>\n",
       "      <td>업종코드</td>\n",
       "      <td>CreDB &gt;&gt; SubCategoryB</td>\n",
       "    </tr>\n",
       "    <tr>\n",
       "      <th>4</th>\n",
       "      <td>Test Catalog</td>\n",
       "      <td>CDB_A_ID</td>\n",
       "      <td>join_sn</td>\n",
       "      <td>차주일련번호</td>\n",
       "      <td>CreDB &gt;&gt; SubCategoryA</td>\n",
       "    </tr>\n",
       "    <tr>\n",
       "      <th>5</th>\n",
       "      <td>Test Catalog</td>\n",
       "      <td>CDB_A_ID</td>\n",
       "      <td>join_sn_typ</td>\n",
       "      <td>차주구분코드</td>\n",
       "      <td>CreDB &gt;&gt; SubCategoryA</td>\n",
       "    </tr>\n",
       "    <tr>\n",
       "      <th>6</th>\n",
       "      <td>Test Catalog</td>\n",
       "      <td>CDB_A_ID</td>\n",
       "      <td>bth_yr</td>\n",
       "      <td>생년</td>\n",
       "      <td>CreDB &gt;&gt; SubCategoryB</td>\n",
       "    </tr>\n",
       "    <tr>\n",
       "      <th>7</th>\n",
       "      <td>Test Catalog</td>\n",
       "      <td>CDB_A_ID</td>\n",
       "      <td>gender</td>\n",
       "      <td>성별</td>\n",
       "      <td>CreDB &gt;&gt; SubCategoryB</td>\n",
       "    </tr>\n",
       "  </tbody>\n",
       "</table>\n",
       "</div>"
      ],
      "text/plain": [
       "        Catalog   DataAsset ColumnHeader BusinessTerm               Category\n",
       "0  Test Catalog  CDB_A_DESC      join_sn       차주일련번호  CreDB >> SubCategoryA\n",
       "1  Test Catalog  CDB_A_DESC  join_sn_typ       차주구분코드  CreDB >> SubCategoryA\n",
       "2  Test Catalog  CDB_A_DESC       biz_sn      사업자일련번호  CreDB >> SubCategoryA\n",
       "3  Test Catalog  CDB_A_DESC   biz_typ_cd         업종코드  CreDB >> SubCategoryB\n",
       "4  Test Catalog    CDB_A_ID      join_sn       차주일련번호  CreDB >> SubCategoryA\n",
       "5  Test Catalog    CDB_A_ID  join_sn_typ       차주구분코드  CreDB >> SubCategoryA\n",
       "6  Test Catalog    CDB_A_ID       bth_yr           생년  CreDB >> SubCategoryB\n",
       "7  Test Catalog    CDB_A_ID       gender           성별  CreDB >> SubCategoryB"
      ]
     },
     "execution_count": 2,
     "metadata": {},
     "output_type": "execute_result"
    }
   ],
   "source": [
    "import pandas as pd\n",
    "\n",
    "#  map-bizterm-glossary.csv: Column names must be kept in the same form.\n",
    "\n",
    "pd.read_csv('map-bizterm-glossary.csv')"
   ]
  },
  {
   "cell_type": "code",
   "execution_count": 3,
   "metadata": {
    "id": "958f6074-3df6-41c6-8127-a723732770c5",
    "tags": []
   },
   "outputs": [
    {
     "name": "stdout",
     "output_type": "stream",
     "text": [
      "getting catalog id of Test Catalog.. \n",
      "searching asset id of CDB_A_ID in Test Catalog.. \n",
      "getting column_info attribute of CDB_A_ID in Test Catalog.. \n",
      "{\n",
      "    \"trace\": \"1obs170rmwfttpan8d5axotcj\",\n",
      "    \"errors\": [\n",
      "        {\n",
      "            \"code\": \"does_not_exist\",\n",
      "            \"message\": \"attribute column_info\",\n",
      "            \"target\": {\n",
      "                \"type\": \"parameter\",\n",
      "                \"name\": \"column_info\"\n",
      "            }\n",
      "        }\n",
      "    ]\n",
      "}\n",
      "searching asset id of CDB_A_DESC in Test Catalog.. \n",
      "getting column_info attribute of CDB_A_DESC in Test Catalog.. \n",
      "{\n",
      "    \"trace\": \"35pnjh16ondosc6u2u8twus2g\",\n",
      "    \"errors\": [\n",
      "        {\n",
      "            \"code\": \"does_not_exist\",\n",
      "            \"message\": \"attribute column_info\",\n",
      "            \"target\": {\n",
      "                \"type\": \"parameter\",\n",
      "                \"name\": \"column_info\"\n",
      "            }\n",
      "        }\n",
      "    ]\n",
      "}\n"
     ]
    }
   ],
   "source": [
    "# no column info attribute before term assignment\n",
    "wkc.view_attribute('CDB_A_ID','Test Catalog')\n",
    "wkc.view_attribute('CDB_A_DESC','Test Catalog')"
   ]
  },
  {
   "cell_type": "code",
   "execution_count": 4,
   "metadata": {
    "id": "0c26c2607fbd474c90125789c859228a",
    "tags": []
   },
   "outputs": [
    {
     "name": "stdout",
     "output_type": "stream",
     "text": [
      "====================================================================================================\n",
      "0-Creating and patching attribute on CDB_A_DESC of Test Catalog..\n",
      "====================================================================================================\n",
      "searching asset id of CDB_A_DESC in Test Catalog.. \n",
      "searching category id of CreDB >> SubCategoryA.. \n",
      "searching business terms in CreDB >> SubCategoryA.. \n",
      "searching category id of CreDB >> SubCategoryB.. \n",
      "searching business terms in CreDB >> SubCategoryB.. \n",
      "====================================================================================================\n",
      "1-Creating and patching attribute on CDB_A_ID of Test Catalog..\n",
      "====================================================================================================\n",
      "searching asset id of CDB_A_ID in Test Catalog.. \n",
      "====================================================================================================\n",
      "it takes 5.620256662368774 seconds / (0.7025320827960968 sec per asset)\n"
     ]
    }
   ],
   "source": [
    "# perform term assignment\n",
    "wkc.map_bizterm_allatonce('map-bizterm-glossary.csv')"
   ]
  },
  {
   "cell_type": "code",
   "execution_count": 5,
   "metadata": {
    "id": "03fe3204-45e6-48b5-be31-6f0ce74daf69",
    "tags": []
   },
   "outputs": [
    {
     "name": "stdout",
     "output_type": "stream",
     "text": [
      "searching asset id of CDB_A_ID in Test Catalog.. \n",
      "getting column_info attribute of CDB_A_ID in Test Catalog.. \n",
      "{\n",
      "    \"href\": \"/v2/assets/13f8343a-29c2-4cf5-ba0c-f6772ec67d97/attributes/column_info?catalog_id=c640902d-35e1-43a0-914f-60f476d9b1bb\",\n",
      "    \"asset_id\": \"13f8343a-29c2-4cf5-ba0c-f6772ec67d97\",\n",
      "    \"column_info\": {\n",
      "        \"join_sn\": {\n",
      "            \"column_terms\": [\n",
      "                {\n",
      "                    \"term_display_name\": \"\\ucc28\\uc8fc\\uc77c\\ub828\\ubc88\\ud638\",\n",
      "                    \"term_id\": \"66669567-de2d-46d1-bcfa-8370143feef8\"\n",
      "                }\n",
      "            ]\n",
      "        },\n",
      "        \"join_sn_typ\": {\n",
      "            \"column_terms\": [\n",
      "                {\n",
      "                    \"term_display_name\": \"\\ucc28\\uc8fc\\uad6c\\ubd84\\ucf54\\ub4dc\",\n",
      "                    \"term_id\": \"a52db4da-f6e1-47b9-a172-0ffcf2748ba8\"\n",
      "                }\n",
      "            ]\n",
      "        },\n",
      "        \"bth_yr\": {\n",
      "            \"column_terms\": [\n",
      "                {\n",
      "                    \"term_display_name\": \"\\uc0dd\\ub144\",\n",
      "                    \"term_id\": \"e981d460-8972-42b4-ae16-54d9ed514783\"\n",
      "                }\n",
      "            ]\n",
      "        },\n",
      "        \"gender\": {\n",
      "            \"column_terms\": [\n",
      "                {\n",
      "                    \"term_display_name\": \"\\uc131\\ubcc4\",\n",
      "                    \"term_id\": \"58f23e24-d52f-46b4-b910-8048c6c3da9c\"\n",
      "                }\n",
      "            ]\n",
      "        }\n",
      "    }\n",
      "}\n",
      "searching asset id of CDB_A_DESC in Test Catalog.. \n",
      "getting column_info attribute of CDB_A_DESC in Test Catalog.. \n",
      "{\n",
      "    \"href\": \"/v2/assets/b5c75ca7-a43c-46a5-bbfb-62b7280f4ecd/attributes/column_info?catalog_id=c640902d-35e1-43a0-914f-60f476d9b1bb\",\n",
      "    \"asset_id\": \"b5c75ca7-a43c-46a5-bbfb-62b7280f4ecd\",\n",
      "    \"column_info\": {\n",
      "        \"join_sn\": {\n",
      "            \"column_terms\": [\n",
      "                {\n",
      "                    \"term_display_name\": \"\\ucc28\\uc8fc\\uc77c\\ub828\\ubc88\\ud638\",\n",
      "                    \"term_id\": \"66669567-de2d-46d1-bcfa-8370143feef8\"\n",
      "                }\n",
      "            ]\n",
      "        },\n",
      "        \"join_sn_typ\": {\n",
      "            \"column_terms\": [\n",
      "                {\n",
      "                    \"term_display_name\": \"\\ucc28\\uc8fc\\uad6c\\ubd84\\ucf54\\ub4dc\",\n",
      "                    \"term_id\": \"a52db4da-f6e1-47b9-a172-0ffcf2748ba8\"\n",
      "                }\n",
      "            ]\n",
      "        },\n",
      "        \"biz_sn\": {\n",
      "            \"column_terms\": [\n",
      "                {\n",
      "                    \"term_display_name\": \"\\uc0ac\\uc5c5\\uc790\\uc77c\\ub828\\ubc88\\ud638\",\n",
      "                    \"term_id\": \"0c844a70-2984-45e0-9077-e26e0eb90540\"\n",
      "                }\n",
      "            ]\n",
      "        },\n",
      "        \"biz_typ_cd\": {\n",
      "            \"column_terms\": [\n",
      "                {\n",
      "                    \"term_display_name\": \"\\uc5c5\\uc885\\ucf54\\ub4dc\",\n",
      "                    \"term_id\": \"86995a3e-59c3-40f9-bff0-e0ed5c23d0bd\"\n",
      "                }\n",
      "            ]\n",
      "        }\n",
      "    }\n",
      "}\n"
     ]
    }
   ],
   "source": [
    "# check term assignment results\n",
    "wkc.view_attribute('CDB_A_ID','Test Catalog')\n",
    "wkc.view_attribute('CDB_A_DESC','Test Catalog')"
   ]
  },
  {
   "cell_type": "code",
   "execution_count": 6,
   "metadata": {
    "id": "b9b6ce8573c340c8828103cd1a9c1aad",
    "tags": []
   },
   "outputs": [
    {
     "name": "stdout",
     "output_type": "stream",
     "text": [
      "searching asset id of CDB_A_ID in Test Catalog.. \n",
      "deleting column_info attribute of CDB_A_ID in Test Catalog.. \n",
      "searching asset id of CDB_A_DESC in Test Catalog.. \n",
      "deleting column_info attribute of CDB_A_DESC in Test Catalog.. \n",
      "searching asset id of CDB_A_ID in Test Catalog.. \n",
      "getting column_info attribute of CDB_A_ID in Test Catalog.. \n",
      "{\n",
      "    \"trace\": \"5fv59l1b2tt2wd39s7gh5y401\",\n",
      "    \"errors\": [\n",
      "        {\n",
      "            \"code\": \"does_not_exist\",\n",
      "            \"message\": \"attribute column_info\",\n",
      "            \"target\": {\n",
      "                \"type\": \"parameter\",\n",
      "                \"name\": \"column_info\"\n",
      "            }\n",
      "        }\n",
      "    ]\n",
      "}\n",
      "searching asset id of CDB_A_DESC in Test Catalog.. \n",
      "getting column_info attribute of CDB_A_DESC in Test Catalog.. \n",
      "{\n",
      "    \"trace\": \"14fkhrt6padusrki9turwfmyt\",\n",
      "    \"errors\": [\n",
      "        {\n",
      "            \"code\": \"does_not_exist\",\n",
      "            \"message\": \"attribute column_info\",\n",
      "            \"target\": {\n",
      "                \"type\": \"parameter\",\n",
      "                \"name\": \"column_info\"\n",
      "            }\n",
      "        }\n",
      "    ]\n",
      "}\n"
     ]
    }
   ],
   "source": [
    "wkc.delete_attribute('CDB_A_ID','Test Catalog')\n",
    "wkc.delete_attribute('CDB_A_DESC','Test Catalog')\n",
    "wkc.view_attribute('CDB_A_ID','Test Catalog')\n",
    "wkc.view_attribute('CDB_A_DESC','Test Catalog')"
   ]
  }
 ],
 "metadata": {
  "kernelspec": {
   "display_name": "Python 3",
   "language": "python",
   "name": "python3"
  },
  "language_info": {
   "codemirror_mode": {
    "name": "ipython",
    "version": 3
   },
   "file_extension": ".py",
   "mimetype": "text/x-python",
   "name": "python",
   "nbconvert_exporter": "python",
   "pygments_lexer": "ipython3",
   "version": "3.11.1"
  },
  "vscode": {
   "interpreter": {
    "hash": "aee8b7b246df8f9039afb4144a1f6fd8d2ca17a180786b69acc140d282b71a49"
   }
  }
 },
 "nbformat": 4,
 "nbformat_minor": 4
}
