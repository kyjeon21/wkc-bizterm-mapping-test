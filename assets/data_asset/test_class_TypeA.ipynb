{
 "cells": [
  {
   "cell_type": "code",
   "execution_count": null,
   "metadata": {},
   "outputs": [],
   "source": [
    "# file download\n",
    "from ibm_watson_studio_lib import access_project_or_space\n",
    "wslib = access_project_or_space()\n",
    "wslib.download_file('map-bizterm-glossary.csv')\n",
    "wslib.download_file('info.json')"
   ]
  },
  {
   "cell_type": "code",
   "execution_count": 1,
   "metadata": {
    "id": "2dbcc008-6fc1-45ec-8274-5a2c3309c9ae",
    "tags": []
   },
   "outputs": [],
   "source": [
    "from wkcapi_v1 import MapTermsJSON\n",
    "\n",
    "#  cpd_cluster_host: cpd url\n",
    "#  info.json: username and password for cp4d\n",
    "#  ex) {\"username\":\"abcd\",\"password\":\"1234\"}\n",
    "\n",
    "wkc = MapTermsJSON(\n",
    "    cpd_cluster_host='https://cpd-cpd-instance-1.itzroks-661002et7b-l3aou9-4b4a324f027aea19c5cbc0c3275c4656-0000.us-south.containers.appdomain.cloud',\n",
    "    info_json='info.json'\n",
    ")"
   ]
  },
  {
   "cell_type": "code",
   "execution_count": 2,
   "metadata": {
    "id": "b8c2024a-bcc1-4fcb-9eca-6d64178c5b54",
    "tags": []
   },
   "outputs": [
    {
     "data": {
      "text/html": [
       "<div>\n",
       "<style scoped>\n",
       "    .dataframe tbody tr th:only-of-type {\n",
       "        vertical-align: middle;\n",
       "    }\n",
       "\n",
       "    .dataframe tbody tr th {\n",
       "        vertical-align: top;\n",
       "    }\n",
       "\n",
       "    .dataframe thead th {\n",
       "        text-align: right;\n",
       "    }\n",
       "</style>\n",
       "<table border=\"1\" class=\"dataframe\">\n",
       "  <thead>\n",
       "    <tr style=\"text-align: right;\">\n",
       "      <th></th>\n",
       "      <th>Catalog</th>\n",
       "      <th>DataAsset</th>\n",
       "      <th>ColumnHeader</th>\n",
       "      <th>BusinessTerm</th>\n",
       "      <th>Category</th>\n",
       "    </tr>\n",
       "  </thead>\n",
       "  <tbody>\n",
       "    <tr>\n",
       "      <th>0</th>\n",
       "      <td>Test Catalog</td>\n",
       "      <td>CDB_A_DESC</td>\n",
       "      <td>join_sn</td>\n",
       "      <td>차주일련번호</td>\n",
       "      <td>CreDB &gt;&gt; SubCategoryA</td>\n",
       "    </tr>\n",
       "    <tr>\n",
       "      <th>1</th>\n",
       "      <td>Test Catalog</td>\n",
       "      <td>CDB_A_DESC</td>\n",
       "      <td>join_sn_typ</td>\n",
       "      <td>차주구분코드</td>\n",
       "      <td>CreDB &gt;&gt; SubCategoryA</td>\n",
       "    </tr>\n",
       "    <tr>\n",
       "      <th>2</th>\n",
       "      <td>Test Catalog</td>\n",
       "      <td>CDB_A_DESC</td>\n",
       "      <td>biz_sn</td>\n",
       "      <td>사업자일련번호</td>\n",
       "      <td>CreDB &gt;&gt; SubCategoryA</td>\n",
       "    </tr>\n",
       "    <tr>\n",
       "      <th>3</th>\n",
       "      <td>Test Catalog</td>\n",
       "      <td>CDB_A_DESC</td>\n",
       "      <td>biz_typ_cd</td>\n",
       "      <td>업종코드</td>\n",
       "      <td>CreDB &gt;&gt; SubCategoryB</td>\n",
       "    </tr>\n",
       "    <tr>\n",
       "      <th>4</th>\n",
       "      <td>Test Catalog</td>\n",
       "      <td>CDB_A_ID</td>\n",
       "      <td>join_sn</td>\n",
       "      <td>차주일련번호</td>\n",
       "      <td>CreDB &gt;&gt; SubCategoryA</td>\n",
       "    </tr>\n",
       "    <tr>\n",
       "      <th>5</th>\n",
       "      <td>Test Catalog</td>\n",
       "      <td>CDB_A_ID</td>\n",
       "      <td>join_sn_typ</td>\n",
       "      <td>차주구분코드</td>\n",
       "      <td>CreDB &gt;&gt; SubCategoryA</td>\n",
       "    </tr>\n",
       "    <tr>\n",
       "      <th>6</th>\n",
       "      <td>Test Catalog</td>\n",
       "      <td>CDB_A_ID</td>\n",
       "      <td>bth_yr</td>\n",
       "      <td>생년</td>\n",
       "      <td>CreDB &gt;&gt; SubCategoryB</td>\n",
       "    </tr>\n",
       "    <tr>\n",
       "      <th>7</th>\n",
       "      <td>Test Catalog</td>\n",
       "      <td>CDB_A_ID</td>\n",
       "      <td>gender</td>\n",
       "      <td>성별</td>\n",
       "      <td>CreDB &gt;&gt; SubCategoryB</td>\n",
       "    </tr>\n",
       "  </tbody>\n",
       "</table>\n",
       "</div>"
      ],
      "text/plain": [
       "        Catalog   DataAsset ColumnHeader BusinessTerm               Category\n",
       "0  Test Catalog  CDB_A_DESC      join_sn       차주일련번호  CreDB >> SubCategoryA\n",
       "1  Test Catalog  CDB_A_DESC  join_sn_typ       차주구분코드  CreDB >> SubCategoryA\n",
       "2  Test Catalog  CDB_A_DESC       biz_sn      사업자일련번호  CreDB >> SubCategoryA\n",
       "3  Test Catalog  CDB_A_DESC   biz_typ_cd         업종코드  CreDB >> SubCategoryB\n",
       "4  Test Catalog    CDB_A_ID      join_sn       차주일련번호  CreDB >> SubCategoryA\n",
       "5  Test Catalog    CDB_A_ID  join_sn_typ       차주구분코드  CreDB >> SubCategoryA\n",
       "6  Test Catalog    CDB_A_ID       bth_yr           생년  CreDB >> SubCategoryB\n",
       "7  Test Catalog    CDB_A_ID       gender           성별  CreDB >> SubCategoryB"
      ]
     },
     "execution_count": 2,
     "metadata": {},
     "output_type": "execute_result"
    }
   ],
   "source": [
    "import pandas as pd\n",
    "\n",
    "#  map-bizterm-glossary.csv: Column names must be kept in the same form.\n",
    "\n",
    "pd.read_csv('map-bizterm-glossary.csv')"
   ]
  },
  {
   "cell_type": "code",
   "execution_count": 3,
   "metadata": {
    "id": "31aeb244-38b7-4ec3-be28-bc4013ad5c80",
    "tags": []
   },
   "outputs": [
    {
     "name": "stdout",
     "output_type": "stream",
     "text": [
      "getting catalog id of Test Catalog.. \n",
      "searching asset id of CDB_A_ID in Test Catalog.. \n",
      "getting column_info attribute of CDB_A_ID in Test Catalog.. \n",
      "{\n",
      "    \"trace\": \"4nn4820nk6w21l8wwhl7lhkd4\",\n",
      "    \"errors\": [\n",
      "        {\n",
      "            \"code\": \"does_not_exist\",\n",
      "            \"message\": \"attribute column_info\",\n",
      "            \"target\": {\n",
      "                \"type\": \"parameter\",\n",
      "                \"name\": \"column_info\"\n",
      "            }\n",
      "        }\n",
      "    ]\n",
      "}\n",
      "searching asset id of CDB_A_DESC in Test Catalog.. \n",
      "getting column_info attribute of CDB_A_DESC in Test Catalog.. \n",
      "{\n",
      "    \"trace\": \"7b584l01rxsq9oelz9vua47rc\",\n",
      "    \"errors\": [\n",
      "        {\n",
      "            \"code\": \"does_not_exist\",\n",
      "            \"message\": \"attribute column_info\",\n",
      "            \"target\": {\n",
      "                \"type\": \"parameter\",\n",
      "                \"name\": \"column_info\"\n",
      "            }\n",
      "        }\n",
      "    ]\n",
      "}\n"
     ]
    }
   ],
   "source": [
    "# no column info attribute before term assignment\n",
    "wkc.view_attribute('CDB_A_ID','Test Catalog')\n",
    "wkc.view_attribute('CDB_A_DESC','Test Catalog')"
   ]
  },
  {
   "cell_type": "code",
   "execution_count": 4,
   "metadata": {
    "id": "471f9e05-4b45-4513-8155-6dcc20402ad4",
    "tags": []
   },
   "outputs": [
    {
     "name": "stdout",
     "output_type": "stream",
     "text": [
      "====================================================================================================\n",
      "0-Creating and patching attribute on CDB_A_DESC of Test Catalog..\n",
      "====================================================================================================\n",
      "searching asset id of CDB_A_DESC in Test Catalog.. \n",
      "searching category id of CreDB >> SubCategoryA.. \n",
      "searching business terms in CreDB >> SubCategoryA.. \n",
      "searching category id of CreDB >> SubCategoryB.. \n",
      "searching business terms in CreDB >> SubCategoryB.. \n",
      "====================================================================================================\n",
      "1-Creating and patching attribute on CDB_A_ID of Test Catalog..\n",
      "====================================================================================================\n",
      "searching asset id of CDB_A_ID in Test Catalog.. \n",
      "====================================================================================================\n",
      "it takes 1.9787631034851074 seconds / (0.24734538793563843 sec per asset)\n"
     ]
    }
   ],
   "source": [
    "# perform term assignment\n",
    "wkc.map_bizterm_allatonce('map-bizterm-glossary.csv')"
   ]
  },
  {
   "cell_type": "code",
   "execution_count": 5,
   "metadata": {
    "id": "7d2ade2c-78e8-4e5e-aa9a-a7bb5f8cf56a",
    "tags": []
   },
   "outputs": [
    {
     "name": "stdout",
     "output_type": "stream",
     "text": [
      "searching asset id of CDB_A_ID in Test Catalog.. \n",
      "getting column_info attribute of CDB_A_ID in Test Catalog.. \n",
      "{\n",
      "    \"href\": \"/v2/assets/13f8343a-29c2-4cf5-ba0c-f6772ec67d97/attributes/column_info?catalog_id=c640902d-35e1-43a0-914f-60f476d9b1bb\",\n",
      "    \"asset_id\": \"13f8343a-29c2-4cf5-ba0c-f6772ec67d97\",\n",
      "    \"column_info\": {\n",
      "        \"join_sn\": {\n",
      "            \"column_terms\": [\n",
      "                {\n",
      "                    \"term_display_name\": \"\\ucc28\\uc8fc\\uc77c\\ub828\\ubc88\\ud638\",\n",
      "                    \"term_id\": \"66669567-de2d-46d1-bcfa-8370143feef8\"\n",
      "                }\n",
      "            ]\n",
      "        },\n",
      "        \"join_sn_typ\": {\n",
      "            \"column_terms\": [\n",
      "                {\n",
      "                    \"term_display_name\": \"\\ucc28\\uc8fc\\uad6c\\ubd84\\ucf54\\ub4dc\",\n",
      "                    \"term_id\": \"a52db4da-f6e1-47b9-a172-0ffcf2748ba8\"\n",
      "                }\n",
      "            ]\n",
      "        },\n",
      "        \"bth_yr\": {\n",
      "            \"column_terms\": [\n",
      "                {\n",
      "                    \"term_display_name\": \"\\uc0dd\\ub144\",\n",
      "                    \"term_id\": \"e981d460-8972-42b4-ae16-54d9ed514783\"\n",
      "                }\n",
      "            ]\n",
      "        },\n",
      "        \"gender\": {\n",
      "            \"column_terms\": [\n",
      "                {\n",
      "                    \"term_display_name\": \"\\uc131\\ubcc4\",\n",
      "                    \"term_id\": \"58f23e24-d52f-46b4-b910-8048c6c3da9c\"\n",
      "                }\n",
      "            ]\n",
      "        }\n",
      "    }\n",
      "}\n",
      "searching asset id of CDB_A_DESC in Test Catalog.. \n",
      "getting column_info attribute of CDB_A_DESC in Test Catalog.. \n",
      "{\n",
      "    \"href\": \"/v2/assets/b5c75ca7-a43c-46a5-bbfb-62b7280f4ecd/attributes/column_info?catalog_id=c640902d-35e1-43a0-914f-60f476d9b1bb\",\n",
      "    \"asset_id\": \"b5c75ca7-a43c-46a5-bbfb-62b7280f4ecd\",\n",
      "    \"column_info\": {\n",
      "        \"join_sn\": {\n",
      "            \"column_terms\": [\n",
      "                {\n",
      "                    \"term_display_name\": \"\\ucc28\\uc8fc\\uc77c\\ub828\\ubc88\\ud638\",\n",
      "                    \"term_id\": \"66669567-de2d-46d1-bcfa-8370143feef8\"\n",
      "                }\n",
      "            ]\n",
      "        },\n",
      "        \"join_sn_typ\": {\n",
      "            \"column_terms\": [\n",
      "                {\n",
      "                    \"term_display_name\": \"\\ucc28\\uc8fc\\uad6c\\ubd84\\ucf54\\ub4dc\",\n",
      "                    \"term_id\": \"a52db4da-f6e1-47b9-a172-0ffcf2748ba8\"\n",
      "                }\n",
      "            ]\n",
      "        },\n",
      "        \"biz_sn\": {\n",
      "            \"column_terms\": [\n",
      "                {\n",
      "                    \"term_display_name\": \"\\uc0ac\\uc5c5\\uc790\\uc77c\\ub828\\ubc88\\ud638\",\n",
      "                    \"term_id\": \"0c844a70-2984-45e0-9077-e26e0eb90540\"\n",
      "                }\n",
      "            ]\n",
      "        },\n",
      "        \"biz_typ_cd\": {\n",
      "            \"column_terms\": [\n",
      "                {\n",
      "                    \"term_display_name\": \"\\uc5c5\\uc885\\ucf54\\ub4dc\",\n",
      "                    \"term_id\": \"86995a3e-59c3-40f9-bff0-e0ed5c23d0bd\"\n",
      "                }\n",
      "            ]\n",
      "        }\n",
      "    }\n",
      "}\n"
     ]
    }
   ],
   "source": [
    "# check term assignment results\n",
    "wkc.view_attribute('CDB_A_ID','Test Catalog')\n",
    "wkc.view_attribute('CDB_A_DESC','Test Catalog')"
   ]
  },
  {
   "cell_type": "code",
   "execution_count": 6,
   "metadata": {
    "id": "2f3f7469ec83412c99734ad50fb159c0",
    "tags": []
   },
   "outputs": [
    {
     "name": "stdout",
     "output_type": "stream",
     "text": [
      "searching asset id of CDB_A_ID in Test Catalog.. \n",
      "deleting column_info attribute of CDB_A_ID in Test Catalog.. \n",
      "searching asset id of CDB_A_DESC in Test Catalog.. \n",
      "deleting column_info attribute of CDB_A_DESC in Test Catalog.. \n",
      "searching asset id of CDB_A_ID in Test Catalog.. \n",
      "getting column_info attribute of CDB_A_ID in Test Catalog.. \n",
      "{\n",
      "    \"trace\": \"ax93xzlfoy7miatqrtwcojymf\",\n",
      "    \"errors\": [\n",
      "        {\n",
      "            \"code\": \"does_not_exist\",\n",
      "            \"message\": \"attribute column_info\",\n",
      "            \"target\": {\n",
      "                \"type\": \"parameter\",\n",
      "                \"name\": \"column_info\"\n",
      "            }\n",
      "        }\n",
      "    ]\n",
      "}\n",
      "searching asset id of CDB_A_DESC in Test Catalog.. \n",
      "getting column_info attribute of CDB_A_DESC in Test Catalog.. \n",
      "{\n",
      "    \"trace\": \"3otg7piw6wfwirbkevt4zvitf\",\n",
      "    \"errors\": [\n",
      "        {\n",
      "            \"code\": \"does_not_exist\",\n",
      "            \"message\": \"attribute column_info\",\n",
      "            \"target\": {\n",
      "                \"type\": \"parameter\",\n",
      "                \"name\": \"column_info\"\n",
      "            }\n",
      "        }\n",
      "    ]\n",
      "}\n"
     ]
    }
   ],
   "source": [
    "wkc.delete_attribute('CDB_A_ID','Test Catalog')\n",
    "wkc.delete_attribute('CDB_A_DESC','Test Catalog')\n",
    "wkc.view_attribute('CDB_A_ID','Test Catalog')\n",
    "wkc.view_attribute('CDB_A_DESC','Test Catalog')"
   ]
  }
 ],
 "metadata": {
  "kernelspec": {
   "display_name": "wkc-biz-map-test",
   "language": "python",
   "name": "python3"
  },
  "language_info": {
   "codemirror_mode": {
    "name": "ipython",
    "version": 3
   },
   "file_extension": ".py",
   "mimetype": "text/x-python",
   "name": "python",
   "nbconvert_exporter": "python",
   "pygments_lexer": "ipython3",
   "version": "3.11.1"
  },
  "vscode": {
   "interpreter": {
    "hash": "040e1e2208235bd591dac7be4dbc4e6a0520347078d9efab50736199a2f7bb57"
   }
  }
 },
 "nbformat": 4,
 "nbformat_minor": 4
}
