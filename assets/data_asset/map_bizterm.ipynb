{
 "cells": [
  {
   "attachments": {},
   "cell_type": "markdown",
   "id": "9e070a1e-b437-46dd-844f-44dcf4b0c94d",
   "metadata": {
    "id": "a152d843-80f4-4d11-b253-41270c5ce619"
   },
   "source": [
    "### 0. 필요 파일 및 포맷\n",
    "- map-bizterm-glossary.csv (매핑할 비즈니스 텀 목록 - 컬럼 이름 및 순서는 반드시 지켜야 함)\n",
    "- wkcapi_v1.py (WatsonDataAPI를 이용한 wkc 코드)\n",
    "- info.json (유저정보)\n",
    "- map_bizterm.ipybn (테스트 노트북 - 함수별 테스트)"
   ]
  },
  {
   "cell_type": "code",
   "execution_count": null,
   "id": "24d5fff1",
   "metadata": {},
   "outputs": [],
   "source": [
    "# 파일 다운로드 - 노트북에서 프로젝트내 파일을 쓰기 위해 선행되어야 함\n",
    "from ibm_watson_studio_lib import access_project_or_space\n",
    "wslib = access_project_or_space()\n",
    "wslib.download_file('map-bizterm-glossary.csv')\n",
    "wslib.download_file('info.json')"
   ]
  },
  {
   "cell_type": "code",
   "execution_count": 1,
   "id": "b6328c44-c59d-40d5-ba1c-8791c08ff1df",
   "metadata": {
    "id": "b6328c44-c59d-40d5-ba1c-8791c08ff1df",
    "tags": []
   },
   "outputs": [
    {
     "data": {
      "text/html": [
       "<div>\n",
       "<style scoped>\n",
       "    .dataframe tbody tr th:only-of-type {\n",
       "        vertical-align: middle;\n",
       "    }\n",
       "\n",
       "    .dataframe tbody tr th {\n",
       "        vertical-align: top;\n",
       "    }\n",
       "\n",
       "    .dataframe thead th {\n",
       "        text-align: right;\n",
       "    }\n",
       "</style>\n",
       "<table border=\"1\" class=\"dataframe\">\n",
       "  <thead>\n",
       "    <tr style=\"text-align: right;\">\n",
       "      <th></th>\n",
       "      <th>Catalog</th>\n",
       "      <th>DataAsset</th>\n",
       "      <th>ColumnHeader</th>\n",
       "      <th>BusinessTerm</th>\n",
       "      <th>Category</th>\n",
       "    </tr>\n",
       "  </thead>\n",
       "  <tbody>\n",
       "    <tr>\n",
       "      <th>0</th>\n",
       "      <td>Test Catalog</td>\n",
       "      <td>CDB_A_DESC</td>\n",
       "      <td>join_sn</td>\n",
       "      <td>차주일련번호</td>\n",
       "      <td>CreDB &gt;&gt; SubCategoryA</td>\n",
       "    </tr>\n",
       "    <tr>\n",
       "      <th>1</th>\n",
       "      <td>Test Catalog</td>\n",
       "      <td>CDB_A_DESC</td>\n",
       "      <td>join_sn_typ</td>\n",
       "      <td>차주구분코드</td>\n",
       "      <td>CreDB &gt;&gt; SubCategoryA</td>\n",
       "    </tr>\n",
       "    <tr>\n",
       "      <th>2</th>\n",
       "      <td>Test Catalog</td>\n",
       "      <td>CDB_A_DESC</td>\n",
       "      <td>biz_sn</td>\n",
       "      <td>사업자일련번호</td>\n",
       "      <td>CreDB &gt;&gt; SubCategoryA</td>\n",
       "    </tr>\n",
       "    <tr>\n",
       "      <th>3</th>\n",
       "      <td>Test Catalog</td>\n",
       "      <td>CDB_A_DESC</td>\n",
       "      <td>biz_typ_cd</td>\n",
       "      <td>업종코드</td>\n",
       "      <td>CreDB &gt;&gt; SubCategoryB</td>\n",
       "    </tr>\n",
       "    <tr>\n",
       "      <th>4</th>\n",
       "      <td>Test Catalog</td>\n",
       "      <td>CDB_A_ID</td>\n",
       "      <td>join_sn</td>\n",
       "      <td>차주일련번호</td>\n",
       "      <td>CreDB &gt;&gt; SubCategoryA</td>\n",
       "    </tr>\n",
       "    <tr>\n",
       "      <th>5</th>\n",
       "      <td>Test Catalog</td>\n",
       "      <td>CDB_A_ID</td>\n",
       "      <td>join_sn_typ</td>\n",
       "      <td>차주구분코드</td>\n",
       "      <td>CreDB &gt;&gt; SubCategoryA</td>\n",
       "    </tr>\n",
       "    <tr>\n",
       "      <th>6</th>\n",
       "      <td>Test Catalog</td>\n",
       "      <td>CDB_A_ID</td>\n",
       "      <td>bth_yr</td>\n",
       "      <td>생년</td>\n",
       "      <td>CreDB &gt;&gt; SubCategoryB</td>\n",
       "    </tr>\n",
       "    <tr>\n",
       "      <th>7</th>\n",
       "      <td>Test Catalog</td>\n",
       "      <td>CDB_A_ID</td>\n",
       "      <td>gender</td>\n",
       "      <td>성별</td>\n",
       "      <td>CreDB &gt;&gt; SubCategoryB</td>\n",
       "    </tr>\n",
       "  </tbody>\n",
       "</table>\n",
       "</div>"
      ],
      "text/plain": [
       "        Catalog   DataAsset ColumnHeader BusinessTerm               Category\n",
       "0  Test Catalog  CDB_A_DESC      join_sn       차주일련번호  CreDB >> SubCategoryA\n",
       "1  Test Catalog  CDB_A_DESC  join_sn_typ       차주구분코드  CreDB >> SubCategoryA\n",
       "2  Test Catalog  CDB_A_DESC       biz_sn      사업자일련번호  CreDB >> SubCategoryA\n",
       "3  Test Catalog  CDB_A_DESC   biz_typ_cd         업종코드  CreDB >> SubCategoryB\n",
       "4  Test Catalog    CDB_A_ID      join_sn       차주일련번호  CreDB >> SubCategoryA\n",
       "5  Test Catalog    CDB_A_ID  join_sn_typ       차주구분코드  CreDB >> SubCategoryA\n",
       "6  Test Catalog    CDB_A_ID       bth_yr           생년  CreDB >> SubCategoryB\n",
       "7  Test Catalog    CDB_A_ID       gender           성별  CreDB >> SubCategoryB"
      ]
     },
     "execution_count": 1,
     "metadata": {},
     "output_type": "execute_result"
    }
   ],
   "source": [
    "import pandas as pd\n",
    "pd.read_csv('map-bizterm-glossary.csv')"
   ]
  },
  {
   "cell_type": "code",
   "execution_count": 2,
   "id": "8e4c66e6-e675-45a5-83fa-3f131625e2c9",
   "metadata": {
    "id": "8e4c66e6-e675-45a5-83fa-3f131625e2c9",
    "tags": []
   },
   "outputs": [],
   "source": [
    "# WatsonDataAPI로부터 만든 wkc 코드 가져오기\n",
    "from wkcapi_v1 import MapTermsJSON"
   ]
  },
  {
   "cell_type": "code",
   "execution_count": 3,
   "id": "f8149bca-c252-4a9f-ac79-1040e2006ba2",
   "metadata": {
    "id": "f8149bca-c252-4a9f-ac79-1040e2006ba2",
    "tags": []
   },
   "outputs": [],
   "source": [
    "# 클래스 인스턴스 만들기 : 기본 입력은 cpd endpoint와 유저 정보\n",
    "wkc = MapTermsJSON(\n",
    "    cpd_cluster_host = 'https://cpd-cpd-instance-1.itzroks-661002et7b-l3aou9-4b4a324f027aea19c5cbc0c3275c4656-0000.us-south.containers.appdomain.cloud',\n",
    "    info_json='info.json'\n",
    ")"
   ]
  },
  {
   "cell_type": "markdown",
   "id": "e520206e-418b-4ebd-8917-ab37668a0043",
   "metadata": {
    "id": "e520206e-418b-4ebd-8917-ab37668a0043"
   },
   "source": [
    "### 1. 기본 작업들 수행\n",
    "    a) Catalog ID\n",
    "    b) Category ID\n",
    "    c) Asset ID\n",
    "    d) Asset Info\n",
    "    e) Business Term ID\n",
    "    f) Create, Get and Delete Attribute"
   ]
  },
  {
   "cell_type": "markdown",
   "id": "bd8d2861-ba2f-44c8-a30d-e14eebea251b",
   "metadata": {
    "id": "bd8d2861-ba2f-44c8-a30d-e14eebea251b"
   },
   "source": [
    "#### a) Catalog ID"
   ]
  },
  {
   "cell_type": "code",
   "execution_count": 4,
   "id": "287cb9be-0ade-4c46-acaf-a006a4841c5f",
   "metadata": {
    "id": "287cb9be-0ade-4c46-acaf-a006a4841c5f",
    "tags": []
   },
   "outputs": [
    {
     "data": {
      "text/plain": [
       "'c640902d-35e1-43a0-914f-60f476d9b1bb'"
      ]
     },
     "execution_count": 4,
     "metadata": {},
     "output_type": "execute_result"
    }
   ],
   "source": [
    "wkc.get_catalog_id('Test Catalog')"
   ]
  },
  {
   "cell_type": "code",
   "execution_count": 5,
   "id": "a8a342bf-e28d-40a9-ac71-182c6542ceee",
   "metadata": {
    "id": "a8a342bf-e28d-40a9-ac71-182c6542ceee",
    "tags": []
   },
   "outputs": [
    {
     "name": "stdout",
     "output_type": "stream",
     "text": [
      "The provided catalog name (Test Catalog1) does not exist!\n"
     ]
    }
   ],
   "source": [
    "wkc.get_catalog_id('Test Catalog1')"
   ]
  },
  {
   "cell_type": "markdown",
   "id": "65f1de5b-6fa9-4d1c-94f7-a79b2ea3bf83",
   "metadata": {
    "id": "4a270cf8-9b4f-4daa-8feb-2b1982cfb5d9"
   },
   "source": [
    "#### b) Category ID"
   ]
  },
  {
   "cell_type": "code",
   "execution_count": 6,
   "id": "7f79d190-9ded-47d0-b347-9fab522d0145",
   "metadata": {
    "id": "7f79d190-9ded-47d0-b347-9fab522d0145",
    "tags": []
   },
   "outputs": [
    {
     "data": {
      "text/plain": [
       "'6cef2502-5564-4b1d-88d2-89fa6fab363f'"
      ]
     },
     "execution_count": 6,
     "metadata": {},
     "output_type": "execute_result"
    }
   ],
   "source": [
    "wkc.get_category_id('CreDB >> SubCategoryB')"
   ]
  },
  {
   "cell_type": "code",
   "execution_count": 7,
   "id": "f8644141-4518-4078-abd9-48780c9f50b2",
   "metadata": {
    "id": "f8644141-4518-4078-abd9-48780c9f50b2",
    "tags": []
   },
   "outputs": [
    {
     "name": "stdout",
     "output_type": "stream",
     "text": [
      "The provided catalog name (CreDB >> SubCategoryC) does not exist!\n"
     ]
    }
   ],
   "source": [
    "wkc.get_category_id('CreDB >> SubCategoryC')"
   ]
  },
  {
   "cell_type": "markdown",
   "id": "47560690-8466-4e9b-9d1d-86bcd738cee5",
   "metadata": {
    "id": "48f04f91-3827-4452-a8a4-5565cab3f039"
   },
   "source": [
    "#### c) Asset ID"
   ]
  },
  {
   "cell_type": "code",
   "execution_count": 8,
   "id": "274b8a68-845d-4347-9da9-069bea7d14d4",
   "metadata": {
    "id": "274b8a68-845d-4347-9da9-069bea7d14d4",
    "tags": []
   },
   "outputs": [
    {
     "data": {
      "text/plain": [
       "'13f8343a-29c2-4cf5-ba0c-f6772ec67d97'"
      ]
     },
     "execution_count": 8,
     "metadata": {},
     "output_type": "execute_result"
    }
   ],
   "source": [
    "wkc.get_asset_id('CDB_A_ID','Test Catalog')"
   ]
  },
  {
   "cell_type": "code",
   "execution_count": 9,
   "id": "44976045-6e52-45e9-81bc-dd8c52a8869c",
   "metadata": {
    "id": "44976045-6e52-45e9-81bc-dd8c52a8869c",
    "tags": []
   },
   "outputs": [
    {
     "name": "stdout",
     "output_type": "stream",
     "text": [
      "The provided asset name (CDB_A_ID1) does not exist in catalog name (Test Catalog)!\n"
     ]
    }
   ],
   "source": [
    "wkc.get_asset_id('CDB_A_ID1','Test Catalog')"
   ]
  },
  {
   "cell_type": "code",
   "execution_count": 10,
   "id": "1c56234d-3dee-48fd-9261-e47d389c7d60",
   "metadata": {
    "id": "1c56234d-3dee-48fd-9261-e47d389c7d60",
    "tags": []
   },
   "outputs": [
    {
     "name": "stdout",
     "output_type": "stream",
     "text": [
      "The provided catalog name (Test Catalog1) does not exist!\n"
     ]
    }
   ],
   "source": [
    "wkc.get_asset_id('CDB_A_ID','Test Catalog1')"
   ]
  },
  {
   "cell_type": "markdown",
   "id": "d447ca9d-b73f-48c6-81c2-9aaf2b031c2d",
   "metadata": {
    "id": "f3f1ca61-e4ff-4157-a011-94e1414af87d",
    "tags": []
   },
   "source": [
    "#### d) Asset Info"
   ]
  },
  {
   "cell_type": "code",
   "execution_count": 11,
   "id": "6290c062-4fe3-4b65-9f32-4aa17c0ac81f",
   "metadata": {
    "id": "6290c062-4fe3-4b65-9f32-4aa17c0ac81f",
    "tags": []
   },
   "outputs": [
    {
     "name": "stdout",
     "output_type": "stream",
     "text": [
      "{\n",
      "    \"metadata\": {\n",
      "        \"usage\": {\n",
      "            \"last_updated_at\": \"2023-02-23T07:11:35Z\",\n",
      "            \"last_updater_id\": \"1000330999\",\n",
      "            \"last_update_time\": 1677136295037,\n",
      "            \"last_accessed_at\": \"2023-02-23T07:11:35Z\",\n",
      "            \"last_access_time\": 1677136295037,\n",
      "            \"last_accessor_id\": \"1000330999\",\n",
      "            \"access_count\": 0\n",
      "        },\n",
      "        \"rov\": {\n",
      "            \"mode\": 0,\n",
      "            \"collaborator_ids\": {},\n",
      "            \"member_roles\": {\n",
      "                \"1000330999\": {\n",
      "                    \"user_iam_id\": \"1000330999\",\n",
      "                    \"roles\": [\n",
      "                        \"OWNER\"\n",
      "                    ]\n",
      "                }\n",
      "            }\n",
      "        },\n",
      "        \"name\": \"CDB_A_ID\",\n",
      "        \"asset_type\": \"data_asset\",\n",
      "        \"origin_country\": \"none\",\n",
      "        \"resource_key\": \"0000:0000:0000:0000:0000:FFFF:A92F:FB55|30276|ibmclouddb:/LGHH/CDB_A_ID\",\n",
      "        \"rating\": 0.0,\n",
      "        \"total_ratings\": 0,\n",
      "        \"catalog_id\": \"c640902d-35e1-43a0-914f-60f476d9b1bb\",\n",
      "        \"created\": 1677006715886,\n",
      "        \"created_at\": \"2023-02-21T19:11:55Z\",\n",
      "        \"owner_id\": \"1000330999\",\n",
      "        \"size\": 0,\n",
      "        \"version\": 2.0,\n",
      "        \"asset_state\": \"available\",\n",
      "        \"asset_attributes\": [\n",
      "            \"data_asset\",\n",
      "            \"column_info\"\n",
      "        ],\n",
      "        \"asset_id\": \"13f8343a-29c2-4cf5-ba0c-f6772ec67d97\",\n",
      "        \"asset_category\": \"USER\",\n",
      "        \"creator_id\": \"1000330999\"\n",
      "    },\n",
      "    \"entity\": {\n",
      "        \"data_asset\": {\n",
      "            \"mime_type\": \"application/x-ibm-rel-table\",\n",
      "            \"dataset\": true,\n",
      "            \"columns\": [\n",
      "                {\n",
      "                    \"name\": \"join_sn\",\n",
      "                    \"type\": {\n",
      "                        \"length\": 19.0,\n",
      "                        \"nullable\": false,\n",
      "                        \"type\": \"bigint\",\n",
      "                        \"scale\": 0.0,\n",
      "                        \"signed\": false\n",
      "                    }\n",
      "                },\n",
      "                {\n",
      "                    \"name\": \"join_sn_typ\",\n",
      "                    \"type\": {\n",
      "                        \"length\": 1.0,\n",
      "                        \"nullable\": false,\n",
      "                        \"type\": \"varchar\",\n",
      "                        \"scale\": 0.0,\n",
      "                        \"signed\": false\n",
      "                    }\n",
      "                },\n",
      "                {\n",
      "                    \"name\": \"bth_yr\",\n",
      "                    \"type\": {\n",
      "                        \"length\": 4.0,\n",
      "                        \"nullable\": true,\n",
      "                        \"type\": \"varchar\",\n",
      "                        \"scale\": 0.0,\n",
      "                        \"signed\": false\n",
      "                    }\n",
      "                },\n",
      "                {\n",
      "                    \"name\": \"gender\",\n",
      "                    \"type\": {\n",
      "                        \"length\": 1.0,\n",
      "                        \"nullable\": true,\n",
      "                        \"type\": \"varchar\",\n",
      "                        \"scale\": 0.0,\n",
      "                        \"signed\": false\n",
      "                    }\n",
      "                },\n",
      "                {\n",
      "                    \"name\": \"is_krn\",\n",
      "                    \"type\": {\n",
      "                        \"length\": 1.0,\n",
      "                        \"nullable\": true,\n",
      "                        \"type\": \"varchar\",\n",
      "                        \"scale\": 0.0,\n",
      "                        \"signed\": false\n",
      "                    }\n",
      "                }\n",
      "            ],\n",
      "            \"properties\": [\n",
      "                {\n",
      "                    \"name\": \"schema_name\",\n",
      "                    \"value\": \"LGHH\"\n",
      "                },\n",
      "                {\n",
      "                    \"name\": \"table_name\",\n",
      "                    \"value\": \"CDB_A_ID\"\n",
      "                }\n",
      "            ]\n",
      "        },\n",
      "        \"column_info\": {\n",
      "            \"join_sn\": {\n",
      "                \"column_terms\": [\n",
      "                    {\n",
      "                        \"term_display_name\": \"\\ucc28\\uc8fc\\uc77c\\ub828\\ubc88\\ud638\",\n",
      "                        \"term_id\": \"66669567-de2d-46d1-bcfa-8370143feef8\"\n",
      "                    }\n",
      "                ]\n",
      "            },\n",
      "            \"join_sn_typ\": {\n",
      "                \"column_terms\": [\n",
      "                    {\n",
      "                        \"term_display_name\": \"\\ucc28\\uc8fc\\uad6c\\ubd84\\ucf54\\ub4dc\",\n",
      "                        \"term_id\": \"a52db4da-f6e1-47b9-a172-0ffcf2748ba8\"\n",
      "                    }\n",
      "                ]\n",
      "            },\n",
      "            \"bth_yr\": {\n",
      "                \"column_terms\": [\n",
      "                    {\n",
      "                        \"term_display_name\": \"\\uc0dd\\ub144\",\n",
      "                        \"term_id\": \"e981d460-8972-42b4-ae16-54d9ed514783\"\n",
      "                    }\n",
      "                ]\n",
      "            },\n",
      "            \"gender\": {\n",
      "                \"column_terms\": [\n",
      "                    {\n",
      "                        \"term_display_name\": \"\\uc131\\ubcc4\",\n",
      "                        \"term_id\": \"58f23e24-d52f-46b4-b910-8048c6c3da9c\"\n",
      "                    }\n",
      "                ]\n",
      "            }\n",
      "        }\n",
      "    },\n",
      "    \"attachments\": [\n",
      "        {\n",
      "            \"id\": \"38fba35e-5333-42e0-be27-ab5321b1d494\",\n",
      "            \"version\": 2.0,\n",
      "            \"asset_type\": \"data_asset\",\n",
      "            \"name\": \"remote\",\n",
      "            \"description\": \"remote\",\n",
      "            \"connection_id\": \"460658f6-8215-4e8e-a24d-97a09c6c1868\",\n",
      "            \"connection_path\": \"/LGHH/CDB_A_ID\",\n",
      "            \"datasource_type\": \"048ed1bf-516c-46f0-ae90-fa3349d8bc1c\",\n",
      "            \"creator_id\": \"1000330999\",\n",
      "            \"create_time\": 1677006715897,\n",
      "            \"size\": 0,\n",
      "            \"is_remote\": true,\n",
      "            \"is_managed\": false,\n",
      "            \"is_referenced\": false,\n",
      "            \"is_object_key_read_only\": false,\n",
      "            \"is_user_provided_path_key\": true,\n",
      "            \"transfer_complete\": true,\n",
      "            \"is_partitioned\": false,\n",
      "            \"complete_time_ticks\": 1677006715897,\n",
      "            \"user_data\": {},\n",
      "            \"test_doc\": 0,\n",
      "            \"usage\": {\n",
      "                \"access_count\": 0.0,\n",
      "                \"last_accessor_id\": \"1000330999\",\n",
      "                \"last_access_time\": 1677006715897.0\n",
      "            }\n",
      "        }\n",
      "    ],\n",
      "    \"href\": \"/v2/assets/13f8343a-29c2-4cf5-ba0c-f6772ec67d97?catalog_id=c640902d-35e1-43a0-914f-60f476d9b1bb\"\n",
      "}\n"
     ]
    }
   ],
   "source": [
    "wkc.view_asset_info('CDB_A_ID','Test Catalog')"
   ]
  },
  {
   "cell_type": "markdown",
   "id": "9b77fdc9-090d-44ed-bd3c-5d49a895c9f5",
   "metadata": {
    "id": "480e343b-ada5-4a28-80e8-2be38dce8963"
   },
   "source": [
    "#### e) Business Term ID"
   ]
  },
  {
   "cell_type": "code",
   "execution_count": 12,
   "id": "89398179-5f69-4c8f-9b6a-8b7b9ffa4ed7",
   "metadata": {
    "id": "89398179-5f69-4c8f-9b6a-8b7b9ffa4ed7",
    "tags": []
   },
   "outputs": [
    {
     "data": {
      "text/plain": [
       "'a52db4da-f6e1-47b9-a172-0ffcf2748ba8'"
      ]
     },
     "execution_count": 12,
     "metadata": {},
     "output_type": "execute_result"
    }
   ],
   "source": [
    "wkc.get_bizterm_id('차주구분코드','CreDB >> SubCategoryA')"
   ]
  },
  {
   "cell_type": "code",
   "execution_count": 13,
   "id": "f17b0e10-a572-4afe-8684-477e4dd337dc",
   "metadata": {
    "id": "f17b0e10-a572-4afe-8684-477e4dd337dc",
    "tags": []
   },
   "outputs": [
    {
     "data": {
      "text/plain": [
       "'66669567-de2d-46d1-bcfa-8370143feef8'"
      ]
     },
     "execution_count": 13,
     "metadata": {},
     "output_type": "execute_result"
    }
   ],
   "source": [
    "wkc.get_bizterm_id('차주일련번호','CreDB >> SubCategoryA')"
   ]
  },
  {
   "cell_type": "code",
   "execution_count": 14,
   "id": "981fb29c-6077-4daa-8a4b-7dc84ebcbf2a",
   "metadata": {
    "id": "981fb29c-6077-4daa-8a4b-7dc84ebcbf2a",
    "tags": []
   },
   "outputs": [
    {
     "name": "stdout",
     "output_type": "stream",
     "text": [
      "The provided business term (차주) does not exist!\n"
     ]
    }
   ],
   "source": [
    "wkc.get_bizterm_id('차주','CreDB >> SubCategoryA')"
   ]
  },
  {
   "cell_type": "code",
   "execution_count": 15,
   "id": "1ad9696a-eb00-49a0-b88f-aef43323ad6f",
   "metadata": {
    "id": "1ad9696a-eb00-49a0-b88f-aef43323ad6f",
    "tags": []
   },
   "outputs": [
    {
     "name": "stdout",
     "output_type": "stream",
     "text": [
      "The provided catalog name (CreDB >> SubCategoryC) does not exist!\n"
     ]
    }
   ],
   "source": [
    "wkc.get_bizterm_id('차주일련번호','CreDB >> SubCategoryC')"
   ]
  },
  {
   "cell_type": "markdown",
   "id": "8df78b6a-2196-4e26-a8cb-e30789d8647d",
   "metadata": {
    "id": "3670f959-2880-4373-b4bf-e3c3020a819f"
   },
   "source": [
    "#### f) Create, Get and Delete Attribute"
   ]
  },
  {
   "cell_type": "code",
   "execution_count": 16,
   "id": "b689609b-0905-41b7-aee7-b6eeeb954aec",
   "metadata": {
    "id": "b689609b-0905-41b7-aee7-b6eeeb954aec",
    "tags": []
   },
   "outputs": [
    {
     "name": "stdout",
     "output_type": "stream",
     "text": [
      "{\n",
      "    \"href\": \"/v2/assets/13f8343a-29c2-4cf5-ba0c-f6772ec67d97/attributes/column_info?catalog_id=c640902d-35e1-43a0-914f-60f476d9b1bb\",\n",
      "    \"asset_id\": \"13f8343a-29c2-4cf5-ba0c-f6772ec67d97\",\n",
      "    \"column_info\": {\n",
      "        \"join_sn\": {\n",
      "            \"column_terms\": [\n",
      "                {\n",
      "                    \"term_display_name\": \"\\ucc28\\uc8fc\\uc77c\\ub828\\ubc88\\ud638\",\n",
      "                    \"term_id\": \"66669567-de2d-46d1-bcfa-8370143feef8\"\n",
      "                }\n",
      "            ]\n",
      "        },\n",
      "        \"join_sn_typ\": {\n",
      "            \"column_terms\": [\n",
      "                {\n",
      "                    \"term_display_name\": \"\\ucc28\\uc8fc\\uad6c\\ubd84\\ucf54\\ub4dc\",\n",
      "                    \"term_id\": \"a52db4da-f6e1-47b9-a172-0ffcf2748ba8\"\n",
      "                }\n",
      "            ]\n",
      "        },\n",
      "        \"bth_yr\": {\n",
      "            \"column_terms\": [\n",
      "                {\n",
      "                    \"term_display_name\": \"\\uc0dd\\ub144\",\n",
      "                    \"term_id\": \"e981d460-8972-42b4-ae16-54d9ed514783\"\n",
      "                }\n",
      "            ]\n",
      "        },\n",
      "        \"gender\": {\n",
      "            \"column_terms\": [\n",
      "                {\n",
      "                    \"term_display_name\": \"\\uc131\\ubcc4\",\n",
      "                    \"term_id\": \"58f23e24-d52f-46b4-b910-8048c6c3da9c\"\n",
      "                }\n",
      "            ]\n",
      "        }\n",
      "    }\n",
      "}\n"
     ]
    }
   ],
   "source": [
    "wkc.view_attribute('CDB_A_ID','Test Catalog')"
   ]
  },
  {
   "cell_type": "code",
   "execution_count": 17,
   "id": "7a9522d3-a4f7-4581-90b7-1b025c43aa84",
   "metadata": {
    "id": "7a9522d3-a4f7-4581-90b7-1b025c43aa84",
    "tags": []
   },
   "outputs": [],
   "source": [
    "wkc.create_attribute('CDB_A_ID','Test Catalog')"
   ]
  },
  {
   "cell_type": "code",
   "execution_count": 18,
   "id": "66bad7fb-37a9-44b8-8e47-9677f08f2c8b",
   "metadata": {
    "id": "66bad7fb-37a9-44b8-8e47-9677f08f2c8b",
    "tags": []
   },
   "outputs": [
    {
     "name": "stdout",
     "output_type": "stream",
     "text": [
      "{\n",
      "    \"href\": \"/v2/assets/13f8343a-29c2-4cf5-ba0c-f6772ec67d97/attributes/column_info?catalog_id=c640902d-35e1-43a0-914f-60f476d9b1bb\",\n",
      "    \"asset_id\": \"13f8343a-29c2-4cf5-ba0c-f6772ec67d97\",\n",
      "    \"column_info\": {\n",
      "        \"join_sn\": {\n",
      "            \"column_terms\": [\n",
      "                {\n",
      "                    \"term_display_name\": \"\\ucc28\\uc8fc\\uc77c\\ub828\\ubc88\\ud638\",\n",
      "                    \"term_id\": \"66669567-de2d-46d1-bcfa-8370143feef8\"\n",
      "                }\n",
      "            ]\n",
      "        },\n",
      "        \"join_sn_typ\": {\n",
      "            \"column_terms\": [\n",
      "                {\n",
      "                    \"term_display_name\": \"\\ucc28\\uc8fc\\uad6c\\ubd84\\ucf54\\ub4dc\",\n",
      "                    \"term_id\": \"a52db4da-f6e1-47b9-a172-0ffcf2748ba8\"\n",
      "                }\n",
      "            ]\n",
      "        },\n",
      "        \"bth_yr\": {\n",
      "            \"column_terms\": [\n",
      "                {\n",
      "                    \"term_display_name\": \"\\uc0dd\\ub144\",\n",
      "                    \"term_id\": \"e981d460-8972-42b4-ae16-54d9ed514783\"\n",
      "                }\n",
      "            ]\n",
      "        },\n",
      "        \"gender\": {\n",
      "            \"column_terms\": [\n",
      "                {\n",
      "                    \"term_display_name\": \"\\uc131\\ubcc4\",\n",
      "                    \"term_id\": \"58f23e24-d52f-46b4-b910-8048c6c3da9c\"\n",
      "                }\n",
      "            ]\n",
      "        }\n",
      "    }\n",
      "}\n"
     ]
    }
   ],
   "source": [
    "wkc.view_attribute('CDB_A_ID','Test Catalog')"
   ]
  },
  {
   "cell_type": "code",
   "execution_count": 19,
   "id": "1eda619c-669f-4bd4-8081-1badc1188246",
   "metadata": {
    "id": "1eda619c-669f-4bd4-8081-1badc1188246",
    "tags": []
   },
   "outputs": [],
   "source": [
    "wkc.delete_attribute('CDB_A_ID','Test Catalog')"
   ]
  },
  {
   "cell_type": "code",
   "execution_count": 20,
   "id": "0ed70ac1-92cc-4350-b929-e569cb190e49",
   "metadata": {
    "id": "0ed70ac1-92cc-4350-b929-e569cb190e49",
    "tags": []
   },
   "outputs": [
    {
     "name": "stdout",
     "output_type": "stream",
     "text": [
      "{\n",
      "    \"trace\": \"4ijnks0icmfi1q1sgfj924kpf\",\n",
      "    \"errors\": [\n",
      "        {\n",
      "            \"code\": \"does_not_exist\",\n",
      "            \"message\": \"attribute column_info\",\n",
      "            \"target\": {\n",
      "                \"type\": \"parameter\",\n",
      "                \"name\": \"column_info\"\n",
      "            }\n",
      "        }\n",
      "    ]\n",
      "}\n"
     ]
    }
   ],
   "source": [
    "wkc.view_attribute('CDB_A_ID','Test Catalog')"
   ]
  },
  {
   "cell_type": "code",
   "execution_count": 21,
   "id": "f39e87cd-703a-4681-925d-83fb1a03a450",
   "metadata": {
    "id": "f39e87cd-703a-4681-925d-83fb1a03a450",
    "tags": []
   },
   "outputs": [],
   "source": [
    "wkc.create_attribute('CDB_A_ID','Test Catalog')\n",
    "wkc.update_attribute('CDB_A_ID', 'Test Catalog', 'join_sn', '차주일련번호','CreDB >> SubCategoryA')"
   ]
  },
  {
   "cell_type": "code",
   "execution_count": 22,
   "id": "d26333fc-ceb1-4d79-90c3-327d91627736",
   "metadata": {
    "id": "d26333fc-ceb1-4d79-90c3-327d91627736",
    "tags": []
   },
   "outputs": [
    {
     "name": "stdout",
     "output_type": "stream",
     "text": [
      "{\n",
      "    \"href\": \"/v2/assets/13f8343a-29c2-4cf5-ba0c-f6772ec67d97/attributes/column_info?catalog_id=c640902d-35e1-43a0-914f-60f476d9b1bb\",\n",
      "    \"asset_id\": \"13f8343a-29c2-4cf5-ba0c-f6772ec67d97\",\n",
      "    \"column_info\": {\n",
      "        \"join_sn\": {\n",
      "            \"column_terms\": [\n",
      "                {\n",
      "                    \"term_display_name\": \"\\ucc28\\uc8fc\\uc77c\\ub828\\ubc88\\ud638\",\n",
      "                    \"term_id\": \"66669567-de2d-46d1-bcfa-8370143feef8\"\n",
      "                }\n",
      "            ]\n",
      "        }\n",
      "    }\n",
      "}\n"
     ]
    }
   ],
   "source": [
    "wkc.view_attribute('CDB_A_ID','Test Catalog')"
   ]
  },
  {
   "cell_type": "code",
   "execution_count": 23,
   "id": "0d792048-2983-4420-b5c1-aafd8cbb7348",
   "metadata": {
    "id": "0d792048-2983-4420-b5c1-aafd8cbb7348",
    "tags": []
   },
   "outputs": [],
   "source": [
    "wkc.update_attribute('CDB_A_ID', 'Test Catalog', 'join_sn_typ', '차주구분코드','CreDB >> SubCategoryA')"
   ]
  },
  {
   "cell_type": "code",
   "execution_count": 24,
   "id": "98e7731a-cbd4-482b-b3d3-83e9d0e85750",
   "metadata": {
    "id": "98e7731a-cbd4-482b-b3d3-83e9d0e85750",
    "tags": []
   },
   "outputs": [
    {
     "name": "stdout",
     "output_type": "stream",
     "text": [
      "{\n",
      "    \"href\": \"/v2/assets/13f8343a-29c2-4cf5-ba0c-f6772ec67d97/attributes/column_info?catalog_id=c640902d-35e1-43a0-914f-60f476d9b1bb\",\n",
      "    \"asset_id\": \"13f8343a-29c2-4cf5-ba0c-f6772ec67d97\",\n",
      "    \"column_info\": {\n",
      "        \"join_sn\": {\n",
      "            \"column_terms\": [\n",
      "                {\n",
      "                    \"term_display_name\": \"\\ucc28\\uc8fc\\uc77c\\ub828\\ubc88\\ud638\",\n",
      "                    \"term_id\": \"66669567-de2d-46d1-bcfa-8370143feef8\"\n",
      "                }\n",
      "            ]\n",
      "        },\n",
      "        \"join_sn_typ\": {\n",
      "            \"column_terms\": [\n",
      "                {\n",
      "                    \"term_display_name\": \"\\ucc28\\uc8fc\\uad6c\\ubd84\\ucf54\\ub4dc\",\n",
      "                    \"term_id\": \"a52db4da-f6e1-47b9-a172-0ffcf2748ba8\"\n",
      "                }\n",
      "            ]\n",
      "        }\n",
      "    }\n",
      "}\n"
     ]
    }
   ],
   "source": [
    "wkc.view_attribute('CDB_A_ID','Test Catalog')"
   ]
  },
  {
   "cell_type": "code",
   "execution_count": 25,
   "id": "5abd3e23-d96f-465e-b693-408b23bfc289",
   "metadata": {
    "id": "5abd3e23-d96f-465e-b693-408b23bfc289",
    "tags": []
   },
   "outputs": [],
   "source": [
    "wkc.delete_attribute('CDB_A_ID','Test Catalog')"
   ]
  },
  {
   "cell_type": "code",
   "execution_count": 26,
   "id": "db5c6ff4-f6ca-47a0-89e3-01ff8925f0b2",
   "metadata": {
    "id": "db5c6ff4-f6ca-47a0-89e3-01ff8925f0b2",
    "tags": []
   },
   "outputs": [
    {
     "name": "stdout",
     "output_type": "stream",
     "text": [
      "The provided business term (차주) does not exist!\n"
     ]
    }
   ],
   "source": [
    "wkc.create_attribute('CDB_A_ID','Test Catalog')\n",
    "wkc.update_attribute('CDB_A_ID', 'Test Catalog', 'join_sn', '차주','CreDB >> SubCategoryA')"
   ]
  },
  {
   "cell_type": "code",
   "execution_count": 27,
   "id": "b6f0d622-b4d7-42f7-9020-680f5eca695e",
   "metadata": {
    "id": "b6f0d622-b4d7-42f7-9020-680f5eca695e",
    "tags": []
   },
   "outputs": [
    {
     "name": "stdout",
     "output_type": "stream",
     "text": [
      "{\n",
      "    \"href\": \"/v2/assets/13f8343a-29c2-4cf5-ba0c-f6772ec67d97/attributes/column_info?catalog_id=c640902d-35e1-43a0-914f-60f476d9b1bb\",\n",
      "    \"asset_id\": \"13f8343a-29c2-4cf5-ba0c-f6772ec67d97\",\n",
      "    \"column_info\": {}\n",
      "}\n"
     ]
    }
   ],
   "source": [
    "wkc.view_attribute('CDB_A_ID','Test Catalog')"
   ]
  },
  {
   "cell_type": "code",
   "execution_count": 28,
   "id": "572c3ae7-93c8-4e4f-a1dd-574379184840",
   "metadata": {
    "id": "572c3ae7-93c8-4e4f-a1dd-574379184840",
    "tags": []
   },
   "outputs": [],
   "source": [
    "wkc.delete_attribute('CDB_A_ID','Test Catalog')"
   ]
  },
  {
   "cell_type": "code",
   "execution_count": 29,
   "id": "c617db4c-7667-4f79-9c3b-130174f9d797",
   "metadata": {
    "id": "c617db4c-7667-4f79-9c3b-130174f9d797",
    "tags": []
   },
   "outputs": [
    {
     "name": "stdout",
     "output_type": "stream",
     "text": [
      "The provided catalog name (CreDB >> SubCategoryC) does not exist!\n"
     ]
    }
   ],
   "source": [
    "wkc.create_attribute('CDB_A_ID','Test Catalog')\n",
    "wkc.update_attribute('CDB_A_ID', 'Test Catalog', 'join_sn', '차주일련번호','CreDB >> SubCategoryC')"
   ]
  },
  {
   "cell_type": "code",
   "execution_count": 30,
   "id": "9574c17e-ed9c-498a-be2d-7ff25664bf13",
   "metadata": {
    "id": "9574c17e-ed9c-498a-be2d-7ff25664bf13",
    "tags": []
   },
   "outputs": [
    {
     "name": "stdout",
     "output_type": "stream",
     "text": [
      "{\n",
      "    \"href\": \"/v2/assets/13f8343a-29c2-4cf5-ba0c-f6772ec67d97/attributes/column_info?catalog_id=c640902d-35e1-43a0-914f-60f476d9b1bb\",\n",
      "    \"asset_id\": \"13f8343a-29c2-4cf5-ba0c-f6772ec67d97\",\n",
      "    \"column_info\": {}\n",
      "}\n"
     ]
    }
   ],
   "source": [
    "wkc.view_attribute('CDB_A_ID','Test Catalog')"
   ]
  },
  {
   "cell_type": "code",
   "execution_count": 31,
   "id": "2f605aa4-6aae-4622-ad76-4db7967babc4",
   "metadata": {
    "id": "2f605aa4-6aae-4622-ad76-4db7967babc4",
    "tags": []
   },
   "outputs": [],
   "source": [
    "wkc.delete_attribute('CDB_A_ID','Test Catalog')"
   ]
  },
  {
   "cell_type": "markdown",
   "id": "6fd43bcc-daf1-423a-a9df-b80196b1d654",
   "metadata": {
    "id": "20b2cef9-7125-4894-b4ae-a2fc595245c6"
   },
   "source": [
    "### 2. 본 작업 수행"
   ]
  },
  {
   "cell_type": "markdown",
   "id": "12fd98c2-8fdd-478c-8131-54ef60bc9acb",
   "metadata": {
    "id": "14ea3b66-9f2b-45f3-929e-9ecb2a689968",
    "tags": []
   },
   "source": [
    "#### Map Business Term : Two Types\n",
    "- Type 1. creating column info attributes and patching business term to each column\n",
    "- Type 2. creating column info attributes with all business term info per data asset"
   ]
  },
  {
   "cell_type": "code",
   "execution_count": 1,
   "id": "b41b0e8e-07f8-43b1-b67f-d65ad11750ca",
   "metadata": {
    "id": "b41b0e8e-07f8-43b1-b67f-d65ad11750ca",
    "tags": []
   },
   "outputs": [],
   "source": [
    "# WatsonDataAPI로부터 만든 wkc 코드 가져오기\n",
    "from wkcapi_v1 import MapTermsJSON"
   ]
  },
  {
   "cell_type": "code",
   "execution_count": 2,
   "id": "b030984a-ad11-4a54-99fe-612031fa258b",
   "metadata": {
    "id": "b030984a-ad11-4a54-99fe-612031fa258b",
    "tags": []
   },
   "outputs": [
    {
     "name": "stdout",
     "output_type": "stream",
     "text": [
      "====================================================================================================\n",
      "1. Creating attribute..\n",
      "----------------------------------------------------------------------------------------------------\n",
      "0-CDB_A_DESC of Test Catalog..\n",
      "getting catalog id of Test Catalog.. \n",
      "searching asset id of CDB_A_DESC in Test Catalog.. \n",
      "creating column_info attribute of CDB_A_DESC in Test Catalog.. \n",
      "----------------------------------------------------------------------------------------------------\n",
      "1-CDB_A_ID of Test Catalog..\n",
      "searching asset id of CDB_A_ID in Test Catalog.. \n",
      "creating column_info attribute of CDB_A_ID in Test Catalog.. \n",
      "====================================================================================================\n",
      "2. Patching column info attribute into data asset in catalogs..\n",
      "----------------------------------------------------------------------------------------------------\n",
      "0-차주일련번호 is mapped to join_sn in CDB_A_DESC of Test Catalog..\n",
      "searching asset id of CDB_A_DESC in Test Catalog.. \n",
      "searching category id of CreDB >> SubCategoryA.. \n",
      "searching business terms in CreDB >> SubCategoryA.. \n",
      "updating column_info attribute of join_sn of CDB_A_DESC in Test Catalog with 차주일련번호 in CreDB >> SubCategoryA.. \n",
      "----------------------------------------------------------------------------------------------------\n",
      "1-차주구분코드 is mapped to join_sn_typ in CDB_A_DESC of Test Catalog..\n",
      "searching asset id of CDB_A_DESC in Test Catalog.. \n",
      "updating column_info attribute of join_sn_typ of CDB_A_DESC in Test Catalog with 차주구분코드 in CreDB >> SubCategoryA.. \n",
      "----------------------------------------------------------------------------------------------------\n",
      "2-사업자일련번호 is mapped to biz_sn in CDB_A_DESC of Test Catalog..\n",
      "searching asset id of CDB_A_DESC in Test Catalog.. \n",
      "updating column_info attribute of biz_sn of CDB_A_DESC in Test Catalog with 사업자일련번호 in CreDB >> SubCategoryA.. \n",
      "----------------------------------------------------------------------------------------------------\n",
      "3-업종코드 is mapped to biz_typ_cd in CDB_A_DESC of Test Catalog..\n",
      "searching asset id of CDB_A_DESC in Test Catalog.. \n",
      "searching category id of CreDB >> SubCategoryB.. \n",
      "searching business terms in CreDB >> SubCategoryB.. \n",
      "updating column_info attribute of biz_typ_cd of CDB_A_DESC in Test Catalog with 업종코드 in CreDB >> SubCategoryB.. \n",
      "----------------------------------------------------------------------------------------------------\n",
      "4-차주일련번호 is mapped to join_sn in CDB_A_ID of Test Catalog..\n",
      "searching asset id of CDB_A_ID in Test Catalog.. \n",
      "updating column_info attribute of join_sn of CDB_A_ID in Test Catalog with 차주일련번호 in CreDB >> SubCategoryA.. \n",
      "----------------------------------------------------------------------------------------------------\n",
      "5-차주구분코드 is mapped to join_sn_typ in CDB_A_ID of Test Catalog..\n",
      "searching asset id of CDB_A_ID in Test Catalog.. \n",
      "updating column_info attribute of join_sn_typ of CDB_A_ID in Test Catalog with 차주구분코드 in CreDB >> SubCategoryA.. \n",
      "----------------------------------------------------------------------------------------------------\n",
      "6-생년 is mapped to bth_yr in CDB_A_ID of Test Catalog..\n",
      "searching asset id of CDB_A_ID in Test Catalog.. \n",
      "updating column_info attribute of bth_yr of CDB_A_ID in Test Catalog with 생년 in CreDB >> SubCategoryB.. \n",
      "----------------------------------------------------------------------------------------------------\n",
      "7-성별 is mapped to gender in CDB_A_ID of Test Catalog..\n",
      "searching asset id of CDB_A_ID in Test Catalog.. \n",
      "updating column_info attribute of gender of CDB_A_ID in Test Catalog with 성별 in CreDB >> SubCategoryB.. \n",
      "====================================================================================================\n",
      "it takes 14.2326500415802 seconds / (1.779081255197525 sec per column)\n",
      "====================================================================================================\n"
     ]
    }
   ],
   "source": [
    "# Type 1\n",
    "wkc = MapTermsJSON(\n",
    "    cpd_cluster_host = 'https://cpd-cpd-instance-1.itzroks-661002et7b-l3aou9-4b4a324f027aea19c5cbc0c3275c4656-0000.us-south.containers.appdomain.cloud',\n",
    "    info_json='info.json'\n",
    ")\n",
    "wkc.map_bizterm('map-bizterm-glossary.csv')"
   ]
  },
  {
   "cell_type": "code",
   "execution_count": 3,
   "id": "10eebfb1-57bc-4078-afcb-f1d7f3466cbe",
   "metadata": {
    "id": "10eebfb1-57bc-4078-afcb-f1d7f3466cbe",
    "tags": []
   },
   "outputs": [
    {
     "name": "stdout",
     "output_type": "stream",
     "text": [
      "searching asset id of CDB_A_ID in Test Catalog.. \n",
      "deleting column_info attribute of CDB_A_ID in Test Catalog.. \n",
      "searching asset id of CDB_A_DESC in Test Catalog.. \n",
      "deleting column_info attribute of CDB_A_DESC in Test Catalog.. \n",
      "searching asset id of CDB_A_ID in Test Catalog.. \n",
      "getting column_info attribute of CDB_A_ID in Test Catalog.. \n",
      "{\n",
      "    \"trace\": \"clm069iczmk1usaprsqkyi3nz\",\n",
      "    \"errors\": [\n",
      "        {\n",
      "            \"code\": \"does_not_exist\",\n",
      "            \"message\": \"attribute column_info\",\n",
      "            \"target\": {\n",
      "                \"type\": \"parameter\",\n",
      "                \"name\": \"column_info\"\n",
      "            }\n",
      "        }\n",
      "    ]\n",
      "}\n",
      "searching asset id of CDB_A_DESC in Test Catalog.. \n",
      "getting column_info attribute of CDB_A_DESC in Test Catalog.. \n",
      "{\n",
      "    \"trace\": \"86hyw1j9jzyt5elayypry1tzc\",\n",
      "    \"errors\": [\n",
      "        {\n",
      "            \"code\": \"does_not_exist\",\n",
      "            \"message\": \"attribute column_info\",\n",
      "            \"target\": {\n",
      "                \"type\": \"parameter\",\n",
      "                \"name\": \"column_info\"\n",
      "            }\n",
      "        }\n",
      "    ]\n",
      "}\n"
     ]
    }
   ],
   "source": [
    "wkc.delete_attribute('CDB_A_ID','Test Catalog')\n",
    "wkc.delete_attribute('CDB_A_DESC','Test Catalog')\n",
    "wkc.view_attribute('CDB_A_ID','Test Catalog')\n",
    "wkc.view_attribute('CDB_A_DESC','Test Catalog')"
   ]
  },
  {
   "cell_type": "code",
   "execution_count": 4,
   "id": "fb142280-8116-424d-bb3e-988e225f8a0c",
   "metadata": {
    "id": "fb142280-8116-424d-bb3e-988e225f8a0c",
    "tags": []
   },
   "outputs": [],
   "source": [
    "# WatsonDataAPI로부터 만든 wkc 코드 가져오기\n",
    "from wkcapi_v1 import MapTermsJSON"
   ]
  },
  {
   "cell_type": "code",
   "execution_count": 5,
   "id": "e76c489c-e3dc-478a-923f-e1932e0d97f6",
   "metadata": {
    "id": "e76c489c-e3dc-478a-923f-e1932e0d97f6",
    "tags": []
   },
   "outputs": [
    {
     "name": "stdout",
     "output_type": "stream",
     "text": [
      "====================================================================================================\n",
      "0-Creating and patching attribute on CDB_A_DESC of Test Catalog..\n",
      "====================================================================================================\n",
      "getting catalog id of Test Catalog.. \n",
      "searching asset id of CDB_A_DESC in Test Catalog.. \n",
      "searching category id of CreDB >> SubCategoryA.. \n",
      "searching business terms in CreDB >> SubCategoryA.. \n",
      "searching category id of CreDB >> SubCategoryB.. \n",
      "searching business terms in CreDB >> SubCategoryB.. \n",
      "====================================================================================================\n",
      "1-Creating and patching attribute on CDB_A_ID of Test Catalog..\n",
      "====================================================================================================\n",
      "searching asset id of CDB_A_ID in Test Catalog.. \n",
      "====================================================================================================\n",
      "it takes 1.8915317058563232 seconds / (0.2364414632320404 sec per asset)\n"
     ]
    }
   ],
   "source": [
    "# Type 2\n",
    "wkc = MapTermsJSON(\n",
    "    cpd_cluster_host = 'https://cpd-cpd-instance-1.itzroks-661002et7b-l3aou9-4b4a324f027aea19c5cbc0c3275c4656-0000.us-south.containers.appdomain.cloud',\n",
    "    info_json='info.json'\n",
    ")\n",
    "wkc.map_bizterm_allatonce('map-bizterm-glossary.csv')"
   ]
  },
  {
   "cell_type": "code",
   "execution_count": 6,
   "id": "49369a38-53f0-42aa-a083-c0a04fe46b7f",
   "metadata": {
    "id": "49369a38-53f0-42aa-a083-c0a04fe46b7f",
    "tags": []
   },
   "outputs": [
    {
     "name": "stdout",
     "output_type": "stream",
     "text": [
      "searching asset id of CDB_A_ID in Test Catalog.. \n",
      "deleting column_info attribute of CDB_A_ID in Test Catalog.. \n",
      "searching asset id of CDB_A_DESC in Test Catalog.. \n",
      "deleting column_info attribute of CDB_A_DESC in Test Catalog.. \n",
      "searching asset id of CDB_A_ID in Test Catalog.. \n",
      "getting column_info attribute of CDB_A_ID in Test Catalog.. \n",
      "{\n",
      "    \"trace\": \"1jtywsmm3zoana5nmq75ceivf\",\n",
      "    \"errors\": [\n",
      "        {\n",
      "            \"code\": \"does_not_exist\",\n",
      "            \"message\": \"attribute column_info\",\n",
      "            \"target\": {\n",
      "                \"type\": \"parameter\",\n",
      "                \"name\": \"column_info\"\n",
      "            }\n",
      "        }\n",
      "    ]\n",
      "}\n",
      "searching asset id of CDB_A_DESC in Test Catalog.. \n",
      "getting column_info attribute of CDB_A_DESC in Test Catalog.. \n",
      "{\n",
      "    \"trace\": \"51nw0gjzf4ddyb99t4ik32n1a\",\n",
      "    \"errors\": [\n",
      "        {\n",
      "            \"code\": \"does_not_exist\",\n",
      "            \"message\": \"attribute column_info\",\n",
      "            \"target\": {\n",
      "                \"type\": \"parameter\",\n",
      "                \"name\": \"column_info\"\n",
      "            }\n",
      "        }\n",
      "    ]\n",
      "}\n"
     ]
    }
   ],
   "source": [
    "wkc.delete_attribute('CDB_A_ID','Test Catalog')\n",
    "wkc.delete_attribute('CDB_A_DESC','Test Catalog')\n",
    "wkc.view_attribute('CDB_A_ID','Test Catalog')\n",
    "wkc.view_attribute('CDB_A_DESC','Test Catalog')"
   ]
  },
  {
   "cell_type": "code",
   "execution_count": null,
   "id": "f3250a78-0338-44bf-bfaf-94f4b529d485",
   "metadata": {
    "id": "f3250a78-0338-44bf-bfaf-94f4b529d485"
   },
   "outputs": [],
   "source": []
  }
 ],
 "metadata": {
  "kernelspec": {
   "display_name": "wkc-biz-map-test",
   "language": "python",
   "name": "python3"
  },
  "language_info": {
   "codemirror_mode": {
    "name": "ipython",
    "version": 3
   },
   "file_extension": ".py",
   "mimetype": "text/x-python",
   "name": "python",
   "nbconvert_exporter": "python",
   "pygments_lexer": "ipython3",
   "version": "3.11.1"
  },
  "vscode": {
   "interpreter": {
    "hash": "040e1e2208235bd591dac7be4dbc4e6a0520347078d9efab50736199a2f7bb57"
   }
  }
 },
 "nbformat": 4,
 "nbformat_minor": 5
}
